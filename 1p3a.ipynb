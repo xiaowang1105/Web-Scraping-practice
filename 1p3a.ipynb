{
 "cells": [
  {
   "cell_type": "code",
   "execution_count": 1,
   "metadata": {
    "collapsed": true
   },
   "outputs": [],
   "source": [
    "import urllib\n",
    "import re\n",
    "import random\n",
    "import datetime\n",
    "import matplotlib.dates as mdates\n",
    "from matplotlib import pyplot as plt"
   ]
  },
  {
   "cell_type": "code",
   "execution_count": 2,
   "metadata": {
    "collapsed": true
   },
   "outputs": [],
   "source": [
    "base_url = 'http://www.1point3acres.com/bbs/forum.php?mod=forumdisplay&fid=82&sortid=164&searchoption[3004][value]=6&searchoption[3004][type]=radio&searchoption[3001][value]=3&searchoption[3001][type]=radio&searchoption[3003][value]=1&searchoption[3003][type]=radio&sortid=164&filter=sortid&page='"
   ]
  },
  {
   "cell_type": "code",
   "execution_count": 3,
   "metadata": {
    "collapsed": true,
    "scrolled": false
   },
   "outputs": [],
   "source": [
    "def find_school_and_date(base_url, page):\n",
    "    url = base_url + str(page)\n",
    "    request = urllib.request.Request(url)\n",
    "    response = urllib.request.urlopen(request)\n",
    "    content = response.read().decode('gb2312', errors='ignore')\n",
    "    pattern = re.compile('<span style=\"margin-top: 3px\".*?<font color=\"black\"><b>(.*?)</b>.*?@<font.*?>(.*?)</font>.*?<font color=\"brown\">(.*?)</font>.*?</font><font color=\"brown\">',re.S)\n",
    "    items = re.findall(pattern,content)\n",
    "    return items"
   ]
  },
  {
   "cell_type": "code",
   "execution_count": 4,
   "metadata": {
    "collapsed": true
   },
   "outputs": [],
   "source": [
    "def init():\n",
    "    my_school_list = ('Stanford', 'CMU', 'Havard', 'Upenn', 'Umich', 'JHU', 'UCSD', 'USC', 'UCLA')\n",
    "    school_2017_dict_ad_data = {}\n",
    "    school_2017_dict_rej_data = {}\n",
    "    for school in my_school_list:\n",
    "        school_2017_dict_ad_data[school] = []\n",
    "        school_2017_dict_rej_data[school] = []\n",
    "    return (my_school_list, school_2017_dict_ad_data, school_2017_dict_rej_data)"
   ]
  },
  {
   "cell_type": "code",
   "execution_count": 5,
   "metadata": {
    "collapsed": true
   },
   "outputs": [],
   "source": [
    "def update_dict(my_school_list, school_2017_dict_ad_data, school_2017_dict_rej_data, base_url, page):\n",
    "    items = find_school_and_date(base_url, page)\n",
    "    for item in items:\n",
    "        bool_value = False\n",
    "        for school in my_school_list:\n",
    "            if school.lower() in item[1].lower():\n",
    "                temp_school = school\n",
    "                bool_value = True\n",
    "                break\n",
    "        if ('ad' in item[0].lower() and bool_value):\n",
    "            school_2017_dict_ad_data[temp_school].append(item[2])\n",
    "        elif ('rej' in item[0].lower() and bool_value):\n",
    "            school_2017_dict_rej_data[temp_school].append(item[2])\n",
    "        elif ('WaitingList'.lower() in item[0].lower() and bool_value):\n",
    "            continue\n",
    "        elif bool_value:\n",
    "            print('This is a problem data: ', item)\n",
    "    return (school_2017_dict_ad_data, school_2017_dict_rej_data)"
   ]
  },
  {
   "cell_type": "code",
   "execution_count": 6,
   "metadata": {
    "collapsed": true
   },
   "outputs": [],
   "source": [
    "def get_all_data():\n",
    "    (my_school_list, school_2017_dict_ad_data, school_2017_dict_rej_data) = init()\n",
    "    for i in range(1, 37):\n",
    "        if i%5 == 0:\n",
    "            print('processing page: ', i)\n",
    "        page = i\n",
    "        (school_2017_dict_ad_data, school_2017_dict_rej_data) = \\\n",
    "            update_dict(my_school_list, school_2017_dict_ad_data, school_2017_dict_rej_data, base_url, page)\n",
    "    return (school_2017_dict_ad_data, school_2017_dict_rej_data)"
   ]
  },
  {
   "cell_type": "code",
   "execution_count": 9,
   "metadata": {
    "scrolled": false
   },
   "outputs": [
    {
     "name": "stdout",
     "output_type": "stream",
     "text": [
      "processing page:  5\n",
      "processing page:  10\n",
      "processing page:  15\n",
      "processing page:  20\n",
      "This is a problem data:  ('Offer', 'Stanford University', '2017-02-27')\n",
      "processing page:  25\n",
      "processing page:  30\n",
      "processing page:  35\n"
     ]
    }
   ],
   "source": [
    "(school_2017_dict_ad_data, school_2017_dict_rej_data) = get_all_data()"
   ]
  },
  {
   "cell_type": "code",
   "execution_count": 10,
   "metadata": {
    "collapsed": true
   },
   "outputs": [],
   "source": [
    "def check_sign(sign, item, list_data):\n",
    "    if sign in item:\n",
    "        if item in list_data:\n",
    "            list_data.remove(item)\n",
    "        sets = item.split(sign)\n",
    "        if len(sets) == 3:\n",
    "            item = item.replace(sign, '-')\n",
    "            list_data.append(item)\n",
    "        return list_data\n",
    "    else:\n",
    "        if '-' not in item:\n",
    "            if item in list_data:\n",
    "                list_data.remove(item)\n",
    "        return list_data\n",
    "\n",
    "def format_check(list_data):\n",
    "    for item in list_data:\n",
    "        list_data = check_sign('.', item, list_data)\n",
    "        list_data = check_sign('/', item, list_data)\n",
    "    return list_data"
   ]
  },
  {
   "cell_type": "code",
   "execution_count": 11,
   "metadata": {
    "collapsed": true
   },
   "outputs": [],
   "source": [
    "def date_valid(list_data):\n",
    "    for item in list_data:\n",
    "        sets = item.split('-')\n",
    "        year = sets[0]\n",
    "        month = sets[1]\n",
    "        if int(year) == 2016 and int(month) < 10:\n",
    "            list_data.remove(item)\n",
    "        elif int(year) !=2016 and int(year) != 2017:\n",
    "            list_data.remove(item)\n",
    "    return list_data"
   ]
  },
  {
   "cell_type": "code",
   "execution_count": 12,
   "metadata": {
    "collapsed": true
   },
   "outputs": [],
   "source": [
    "def plot_one_school(data, school_name, ad_or_rej):\n",
    "    temp_list = data[school_name]\n",
    "    temp_list = format_check(temp_list)\n",
    "    temp_list = date_valid(temp_list)\n",
    "    temp_list.sort(key=lambda x: datetime.datetime.strptime(x, '%Y-%m-%d'))\n",
    "    date_list = [datetime.date(int(item.split('-')[0]),int(item.split('-')[1]), int(item.split('-')[2])) for item in temp_list]\n",
    "    plt.hist(date_list, 50, facecolor='green')\n",
    "    plt.gcf().autofmt_xdate()\n",
    "    plt.xlabel('date (year-month)')\n",
    "    plt.ylabel('number of results')\n",
    "    plt.title(ad_or_rej + ' of ' + school_name + ' in 2017')\n",
    "    plt.show()"
   ]
  },
  {
   "cell_type": "markdown",
   "metadata": {},
   "source": [
    "#### my_school_list = ('Stanford', 'CMU', 'Havard', 'Upenn', 'Umich', 'JHU', 'UCSD', 'USC', 'UCLA')"
   ]
  },
  {
   "cell_type": "code",
   "execution_count": 14,
   "metadata": {},
   "outputs": [
    {
     "data": {
      "image/png": "[encoded data removed]",
      "text/plain": [
       "<matplotlib.figure.Figure at 0x183cdf0cda0>"
      ]
     },
     "metadata": {},
     "output_type": "display_data"
    }
   ],
   "source": [
    "plot_one_school(school_2017_dict_ad_data, 'Upenn', 'ad')"
   ]
  }
 ],
 "metadata": {
  "kernelspec": {
   "display_name": "Python 3",
   "language": "python",
   "name": "python3"
  },
  "language_info": {
   "codemirror_mode": {
    "name": "ipython",
    "version": 3
   },
   "file_extension": ".py",
   "mimetype": "text/x-python",
   "name": "python",
   "nbconvert_exporter": "python",
   "pygments_lexer": "ipython3",
   "version": "3.6.3"
  }
 },
 "nbformat": 4,
 "nbformat_minor": 2
}
